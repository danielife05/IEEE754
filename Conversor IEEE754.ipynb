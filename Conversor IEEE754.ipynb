{
 "cells": [
  {
   "cell_type": "code",
   "execution_count": 9,
   "id": "5ae7844f",
   "metadata": {},
   "outputs": [
    {
     "name": "stdout",
     "output_type": "stream",
     "text": [
      "Ingrese un número decimal: -0.75\n",
      "Número dado: 0.75\n",
      "Bit del signo: 1\n",
      "Exponente: 126\n",
      "Exponente sesgado: 126\n",
      "Mantisa: 10000000000000000000000\n",
      "Equivalente binario en formato IEEE de 32 bits: 10111111010000000000000000000000\n",
      "Equivalente hexadecimal: BF400000\n"
     ]
    }
   ],
   "source": [
    "def float_to_ieee_754(numero):\n",
    "    # Determinar el signo\n",
    "    if numero < 0:\n",
    "        signo = 1\n",
    "        numero = -numero\n",
    "    else:\n",
    "        signo = 0\n",
    "\n",
    "    # Convertir a binario la parte entera y fraccionaria\n",
    "    parte_entera = int(numero)\n",
    "    parte_fraccionaria = numero - parte_entera\n",
    "\n",
    "    binario_entero = bin(parte_entera).lstrip('0b') or '0'\n",
    "    \n",
    "    binario_fraccionario = ''\n",
    "    while parte_fraccionaria and len(binario_fraccionario) < 24:\n",
    "        parte_fraccionaria *= 2\n",
    "        bit = int(parte_fraccionaria)\n",
    "        binario_fraccionario += str(bit)\n",
    "        parte_fraccionaria -= bit\n",
    "\n",
    "    # Normalizar el número binario\n",
    "    if binario_entero != '0':\n",
    "        exponente = len(binario_entero) - 1\n",
    "        mantisa = binario_entero[1:] + binario_fraccionario\n",
    "    else:\n",
    "        first_one_index = binario_fraccionario.find('1')\n",
    "        exponente = -(first_one_index + 1)\n",
    "        mantisa = binario_fraccionario[first_one_index + 1:]\n",
    "\n",
    "    exponente_sesgado = exponente + 127\n",
    "    binario_exponente = f'{exponente_sesgado:08b}'\n",
    "\n",
    "    # Asegurarse de que la mantisa tenga exactamente 23 bits\n",
    "    mantisa = (mantisa + '0' * 23)[:23]\n",
    "\n",
    "    # Formar la representación IEEE 754\n",
    "    ieee_754_binario = f'{signo}{binario_exponente}{mantisa}'\n",
    "\n",
    "    # Convertir a hexadecimal\n",
    "    ieee_754_hex = f'{int(ieee_754_binario, 2):08X}'\n",
    "\n",
    "    return {\n",
    "        'numero': numero,\n",
    "        'bit_signo': signo,\n",
    "        'exponente': int(binario_exponente, 2),\n",
    "        'exponente_sesgado': exponente_sesgado,\n",
    "        'mantisa': mantisa,\n",
    "        'ieee_754_binario': ieee_754_binario,\n",
    "        'ieee_754_hex': ieee_754_hex\n",
    "    }\n",
    "\n",
    "numero = float(input(\"Ingrese un número decimal: \"))\n",
    "representacion_ieee_754 = float_to_ieee_754(numero)\n",
    "\n",
    "print(f\"Número dado: {representacion_ieee_754['numero']}\")\n",
    "print(f\"Bit del signo: {representacion_ieee_754['bit_signo']}\")\n",
    "print(f\"Exponente: {representacion_ieee_754['exponente']}\")\n",
    "print(f\"Exponente sesgado: {representacion_ieee_754['exponente_sesgado']}\")\n",
    "print(f\"Mantisa: {representacion_ieee_754['mantisa']}\")\n",
    "print(f\"Equivalente binario en formato IEEE de 32 bits: {representacion_ieee_754['ieee_754_binario']}\")\n",
    "print(f\"Equivalente hexadecimal: {representacion_ieee_754['ieee_754_hex']}\")"
   ]
  },
  {
   "cell_type": "code",
   "execution_count": null,
   "id": "cd24b8ad",
   "metadata": {},
   "outputs": [],
   "source": []
  }
 ],
 "metadata": {
  "kernelspec": {
   "display_name": "Python 3 (ipykernel)",
   "language": "python",
   "name": "python3"
  },
  "language_info": {
   "codemirror_mode": {
    "name": "ipython",
    "version": 3
   },
   "file_extension": ".py",
   "mimetype": "text/x-python",
   "name": "python",
   "nbconvert_exporter": "python",
   "pygments_lexer": "ipython3",
   "version": "3.10.14"
  }
 },
 "nbformat": 4,
 "nbformat_minor": 5
}
